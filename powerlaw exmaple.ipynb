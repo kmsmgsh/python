{
 "cells": [
  {
   "cell_type": "code",
   "execution_count": 4,
   "metadata": {
    "collapsed": true
   },
   "outputs": [],
   "source": [
    "import os\n",
    "os.chdir(\"Z:\\My Documents\\python\\python\\基于看起来正确版的重修改版\")"
   ]
  },
  {
   "cell_type": "code",
   "execution_count": 5,
   "metadata": {
    "collapsed": true
   },
   "outputs": [],
   "source": [
    "import numpy as np\n",
    "from scipy.stats import norm\n",
    "import matplotlib.pyplot as plt\n",
    "import Metropolis as mp\n",
    "import Metropolis2 as mp2\n",
    "import Metropolis3 as mp3\n",
    "import generator_temp as gc\n",
    "import likelihood as lk\n",
    "import coordinate as cr\n",
    "from scipy.stats import beta\n",
    "import likelihodPhi as lk2\n",
    "import generator_temp_transprob as gc2"
   ]
  },
  {
   "cell_type": "code",
   "execution_count": 6,
   "metadata": {
    "collapsed": false
   },
   "outputs": [
    {
     "name": "stderr",
     "output_type": "stream",
     "text": [
      "Z:\\My Documents\\python\\python\\基于看起来正确版的重修改版\\Metropolis3.py:10: RuntimeWarning: invalid value encountered in double_scalars\n",
      "  p=min(density(thetastar)/density(theta),1)####################Transfor p/p,or use log normal:btw: p/p=1 solved\n",
      "Z:\\My Documents\\python\\python\\基于看起来正确版的重修改版\\Metropolis3.py:10: RuntimeWarning: divide by zero encountered in double_scalars\n",
      "  p=min(density(thetastar)/density(theta),1)####################Transfor p/p,or use log normal:btw: p/p=1 solved\n"
     ]
    },
    {
     "name": "stdout",
     "output_type": "stream",
     "text": [
      "Accept rate is\n",
      "0.825\n",
      "Mean is\n",
      "0.0196655096237\n",
      "Accept rate is\n",
      "0.27\n",
      "Mean is\n",
      "0.330447033483\n",
      "Accept rate is\n",
      "0.117\n",
      "Mean is\n",
      "1.18225597557\n"
     ]
    }
   ],
   "source": [
    "model1=gc2.heteregeneousModel(100,0.4,0.3,0.9,False,False,\"powerlaw\")\n",
    "#model1.Animate()\n",
    "estimate=lk2.Estimation(model1.record,model1.geo,\"powerlaw\")\n",
    "Metro=mp3.multiMetropolis(1000,[estimate.GammaPosteriorBeta0,estimate.GammaPosteriorGamma,estimate.GammaPosteriorPhi],[0.1,0.1,5],[0.4,0.4,0.4])\n",
    "#Metro=mp3.multiMetropolis(1000,[estimate.GammaPosteriorBeta0,estimate.GammaPosteriorGamma],[0.1,0.1],[0.4,0.4])\n",
    "Metro.showplot(0)\n",
    "Metro.printall(0)\n",
    "Metro.showplot(1)\n",
    "Metro.printall(1)\n",
    "Metro.showplot(2)\n",
    "Metro.printall(2)"
   ]
  },
  {
   "cell_type": "code",
   "execution_count": null,
   "metadata": {
    "collapsed": true
   },
   "outputs": [],
   "source": []
  }
 ],
 "metadata": {
  "anaconda-cloud": {},
  "kernelspec": {
   "display_name": "Python [Root]",
   "language": "python",
   "name": "Python [Root]"
  },
  "language_info": {
   "codemirror_mode": {
    "name": "ipython",
    "version": 3
   },
   "file_extension": ".py",
   "mimetype": "text/x-python",
   "name": "python",
   "nbconvert_exporter": "python",
   "pygments_lexer": "ipython3",
   "version": "3.5.1"
  }
 },
 "nbformat": 4,
 "nbformat_minor": 0
}
