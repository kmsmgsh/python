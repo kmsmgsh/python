{
 "cells": [
  {
   "cell_type": "markdown",
   "metadata": {},
   "source": [
    "### This is the part to test the markdown syntax with the other part\n",
    "Then we have following task today\n",
    "- 1hour about the Gaussian process machine learning , to finish reading chapter 2.2\n",
    "- 30 min about the markdown so that can finish this notebook(have finished yet)\n",
    "- correct the code about the parameter input\n"
   ]
  },
  {
   "cell_type": "markdown",
   "metadata": {},
   "source": [
    "### Todo list for the project\n",
    "2016/7/29\n",
    "\n",
    "- [  ] **Notes development tool**\n",
    "\n",
    "    - [x] jupyter notebook with markdown syntax 1 hour with two poromodo\n",
    "    - [ ] a github blog with markdown to describe my work  \n",
    "    - [ ] The rightnow work procedure\n",
    "- [ ]  **Theoretical work** \n",
    "\n",
    "    - [ ] 1 hour reading about the Gaussian Process Machine Learning\n",
    "    - [ ] Read the introduction part for MCMC for Variationally Sparse Gaussian process\n",
    "- [ ] **Code work**\n",
    "    \n",
    "    - [ ] Parameterise the Code (For powerlaw part with 3 parameter as beta0, sigma, omega)\n",
    "    - [ ] Design the work logistic for GP"
   ]
  },
  {
   "cell_type": "code",
   "execution_count": null,
   "metadata": {
    "collapsed": true
   },
   "outputs": [],
   "source": []
  }
 ],
 "metadata": {
  "anaconda-cloud": {},
  "kernelspec": {
   "display_name": "Python [Root]",
   "language": "python",
   "name": "Python [Root]"
  },
  "language_info": {
   "codemirror_mode": {
    "name": "ipython",
    "version": 3
   },
   "file_extension": ".py",
   "mimetype": "text/x-python",
   "name": "python",
   "nbconvert_exporter": "python",
   "pygments_lexer": "ipython3",
   "version": "3.5.1"
  }
 },
 "nbformat": 4,
 "nbformat_minor": 0
}
