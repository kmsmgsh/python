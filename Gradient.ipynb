{
 "cells": [
  {
   "cell_type": "code",
   "execution_count": 1,
   "metadata": {
    "collapsed": true
   },
   "outputs": [],
   "source": [
    "import os\n",
    "os.chdir(\"Z:\\My Documents\\python\\python\\基于看起来正确版的重修改版\")\n",
    "import numpy as np\n",
    "from scipy.stats import norm\n",
    "import matplotlib.pyplot as plt\n",
    "import Metropolis as mp\n",
    "import Metropolis2 as mp2\n",
    "import Metropolis3 as mp3\n",
    "import generator_temp as gc\n",
    "import likelihood as lk\n",
    "import coordinate as cr\n",
    "from scipy.stats import beta\n",
    "import likelihodPhi as lk2\n",
    "import generator_temp_transprob as gc2"
   ]
  },
  {
   "cell_type": "code",
   "execution_count": 2,
   "metadata": {
    "collapsed": false
   },
   "outputs": [
    {
     "name": "stdout",
     "output_type": "stream",
     "text": [
      "Accept rate is\n",
      "0.42\n",
      "Mean is\n",
      "0.583595966397\n",
      "Accept rate is\n",
      "0.321\n",
      "Mean is\n",
      "0.289796862764\n",
      "Accept rate is\n",
      "0.315\n",
      "Mean is\n",
      "6.40928375826\n"
     ]
    }
   ],
   "source": [
    "model1=gc2.heteregeneousModel(100,0.4,0.3,10,False,False)\n",
    "#model1.Animate()\n",
    "estimate=lk2.Estimation(model1.record,model1.geo)\n",
    "Metro=mp3.multiMetropolis(1000,[estimate.GammaPosteriorBeta0,estimate.GammaPosteriorGamma,estimate.GammaPosteriorPhi],[0.1,0.1,5],[0.4,0.4,0.4])\n",
    "#Metro=mp3.multiMetropolis(1000,[estimate.GammaPosteriorBeta0,estimate.GammaPosteriorGamma],[0.1,0.1],[0.4,0.4])\n",
    "Metro.showplot(0)\n",
    "Metro.printall(0)\n",
    "Metro.showplot(1)\n",
    "Metro.printall(1)\n",
    "Metro.showplot(2)\n",
    "Metro.printall(2)"
   ]
  },
  {
   "cell_type": "code",
   "execution_count": null,
   "metadata": {
    "collapsed": true
   },
   "outputs": [],
   "source": []
  }
 ],
 "metadata": {
  "kernelspec": {
   "display_name": "Python [Root]",
   "language": "python",
   "name": "Python [Root]"
  },
  "language_info": {
   "codemirror_mode": {
    "name": "ipython",
    "version": 3
   },
   "file_extension": ".py",
   "mimetype": "text/x-python",
   "name": "python",
   "nbconvert_exporter": "python",
   "pygments_lexer": "ipython3",
   "version": "3.5.1"
  }
 },
 "nbformat": 4,
 "nbformat_minor": 0
}
